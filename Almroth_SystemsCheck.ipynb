{
 "cells": [
  {
   "cell_type": "markdown",
   "id": "63538712",
   "metadata": {},
   "source": [
    "# Systems Check\n",
    "## What I hope to get out of this class\n",
    "\n",
    "1. *Understanding of how to read data*\n",
    "2. *How to use this data to my advantage*\n",
    "3. *I also hope to be able to communicate my finding with others confidently*\n",
    "\n",
    "<img src=\"https://americaware.com/wp-content/uploads/2021/03/GermanShepherd_Blog.jpg\" />"
   ]
  },
  {
   "cell_type": "code",
   "execution_count": null,
   "id": "208c1c4d",
   "metadata": {},
   "outputs": [],
   "source": [
    "conda install -c conda-forge jupyter_contrib_nbextensions"
   ]
  },
  {
   "cell_type": "code",
   "execution_count": null,
   "id": "b1a1639f",
   "metadata": {},
   "outputs": [],
   "source": [
    "jupyter nbextension enable spell checker/main"
   ]
  },
  {
   "cell_type": "code",
   "execution_count": null,
   "id": "4d852e2a",
   "metadata": {},
   "outputs": [],
   "source": [
    "for i in [1,2,3,4]:\n",
    "        print(i)"
   ]
  },
  {
   "cell_type": "code",
   "execution_count": null,
   "id": "54f81029",
   "metadata": {},
   "outputs": [],
   "source": [
    "x = \"flowers\"\n",
    "print(x)"
   ]
  },
  {
   "cell_type": "code",
   "execution_count": null,
   "id": "6c6133fb",
   "metadata": {},
   "outputs": [],
   "source": [
    "def names (x):\n",
    "        return(x)"
   ]
  },
  {
   "cell_type": "code",
   "execution_count": null,
   "id": "5d21ec6b",
   "metadata": {},
   "outputs": [],
   "source": [
    "y = names(\"flowers\")\n",
    "print(y)"
   ]
  }
 ],
 "metadata": {
  "kernelspec": {
   "display_name": "Python 3 (ipykernel)",
   "language": "python",
   "name": "python3"
  },
  "language_info": {
   "codemirror_mode": {
    "name": "ipython",
    "version": 3
   },
   "file_extension": ".py",
   "mimetype": "text/x-python",
   "name": "python",
   "nbconvert_exporter": "python",
   "pygments_lexer": "ipython3",
   "version": "3.10.4"
  }
 },
 "nbformat": 4,
 "nbformat_minor": 5
}
